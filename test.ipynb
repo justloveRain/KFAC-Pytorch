{
 "cells": [
  {
   "cell_type": "code",
   "execution_count": 3,
   "metadata": {},
   "outputs": [],
   "source": [
    "import torch"
   ]
  },
  {
   "cell_type": "code",
   "execution_count": 62,
   "metadata": {},
   "outputs": [
    {
     "name": "stdout",
     "output_type": "stream",
     "text": [
      "y:  tensor([[-0.3288,  1.1829,  0.5164],\n",
      "        [ 0.4383, -0.7461, -0.8067]])\n",
      "y.shape:  torch.Size([2, 3])\n",
      "ysoftmax:  tensor([[0.1272, 0.5767, 0.2961],\n",
      "        [0.6274, 0.1920, 0.1807]])\n",
      "ysoftmax.shape:  torch.Size([2, 3])\n",
      "sampled_y:  tensor([1, 0], device='cuda:0')\n",
      "sampled_y.shape:  torch.Size([2])\n"
     ]
    }
   ],
   "source": [
    "y = torch.randn(2,3)\n",
    "print('y: ', y)\n",
    "print('y.shape: ', y.shape)\n",
    "ysoftmax = torch.nn.functional.softmax(y.cpu().data, dim=1)\n",
    "print('ysoftmax: ', ysoftmax)\n",
    "print('ysoftmax.shape: ', ysoftmax.shape) \n",
    "sampled_y = torch.multinomial(torch.nn.functional.softmax(y.cpu().data, dim=1),1).squeeze().cuda()\n",
    "print('sampled_y: ', sampled_y)\n",
    "print('sampled_y.shape: ', sampled_y.shape)"
   ]
  },
  {
   "cell_type": "code",
   "execution_count": 10,
   "metadata": {},
   "outputs": [
    {
     "name": "stdout",
     "output_type": "stream",
     "text": [
      "tensor([[[[ 1.0494,  0.7470],\n",
      "          [ 1.3082,  0.5528]],\n",
      "\n",
      "         [[ 0.8692,  0.0067],\n",
      "          [ 1.6071, -0.5470]]]], grad_fn=<ConvolutionBackward0>)\n",
      "[tensor([[[[ 1.0494,  0.7470],\n",
      "          [ 1.3082,  0.5528]],\n",
      "\n",
      "         [[ 0.8692,  0.0067],\n",
      "          [ 1.6071, -0.5470]]]], grad_fn=<ConvolutionBackward0>)]\n"
     ]
    }
   ],
   "source": [
    "import torch\n",
    "import torch.nn as nn\n",
    "\n",
    "# 定义一个简单的网络\n",
    "class SimpleNet(nn.Module):\n",
    "    def __init__(self):\n",
    "        super(SimpleNet, self).__init__()\n",
    "        self.conv1 = nn.Conv2d(1, 2, 1)\n",
    "        self.relu = nn.ReLU()\n",
    "\n",
    "    def forward(self, x):\n",
    "        x = self.conv1(x)\n",
    "        print(x)\n",
    "        x = self.relu(x)\n",
    "        return x\n",
    "\n",
    "# 初始化网络\n",
    "net = SimpleNet()\n",
    "\n",
    "# 创建一个列表来保存中间变量\n",
    "activations = []\n",
    "\n",
    "# 定义forward hook函数\n",
    "def forward_hook(module, input, output):\n",
    "    activations.append(output)\n",
    "\n",
    "# 注册hook\n",
    "hook = net.conv1.register_forward_hook(forward_hook)\n",
    "\n",
    "# 假设有一个输入\n",
    "input = torch.randn(1, 1, 2, 2)\n",
    "\n",
    "# 前向传播\n",
    "output = net(input)\n",
    "\n",
    "# 此时activations列表中保存了conv1层的输出\n",
    "print(activations)"
   ]
  },
  {
   "cell_type": "code",
   "execution_count": 19,
   "metadata": {},
   "outputs": [
    {
     "name": "stdout",
     "output_type": "stream",
     "text": [
      "tensor([[[[-0.0886, -0.2883, -0.9615, -0.1326],\n",
      "          [ 1.0096, -0.1389,  0.0117,  0.6096],\n",
      "          [-1.2390,  0.5908,  0.4903, -0.6616],\n",
      "          [-0.0071,  1.2974, -1.8786,  0.5347]]],\n",
      "\n",
      "\n",
      "        [[[ 0.9867, -0.8508,  0.2260,  0.0640],\n",
      "          [ 0.4050,  1.8907,  0.5577, -0.1706],\n",
      "          [-0.5433, -0.3055,  0.1924,  0.1597],\n",
      "          [-0.5467,  0.1248, -1.3927,  2.1104]]]])\n",
      "tensor([[[[[[-0.0886, -0.2883],\n",
      "            [ 1.0096, -0.1389]],\n",
      "\n",
      "           [[-0.2883, -0.9615],\n",
      "            [-0.1389,  0.0117]],\n",
      "\n",
      "           [[-0.9615, -0.1326],\n",
      "            [ 0.0117,  0.6096]]],\n",
      "\n",
      "\n",
      "          [[[ 1.0096, -0.1389],\n",
      "            [-1.2390,  0.5908]],\n",
      "\n",
      "           [[-0.1389,  0.0117],\n",
      "            [ 0.5908,  0.4903]],\n",
      "\n",
      "           [[ 0.0117,  0.6096],\n",
      "            [ 0.4903, -0.6616]]],\n",
      "\n",
      "\n",
      "          [[[-1.2390,  0.5908],\n",
      "            [-0.0071,  1.2974]],\n",
      "\n",
      "           [[ 0.5908,  0.4903],\n",
      "            [ 1.2974, -1.8786]],\n",
      "\n",
      "           [[ 0.4903, -0.6616],\n",
      "            [-1.8786,  0.5347]]]]],\n",
      "\n",
      "\n",
      "\n",
      "\n",
      "        [[[[[ 0.9867, -0.8508],\n",
      "            [ 0.4050,  1.8907]],\n",
      "\n",
      "           [[-0.8508,  0.2260],\n",
      "            [ 1.8907,  0.5577]],\n",
      "\n",
      "           [[ 0.2260,  0.0640],\n",
      "            [ 0.5577, -0.1706]]],\n",
      "\n",
      "\n",
      "          [[[ 0.4050,  1.8907],\n",
      "            [-0.5433, -0.3055]],\n",
      "\n",
      "           [[ 1.8907,  0.5577],\n",
      "            [-0.3055,  0.1924]],\n",
      "\n",
      "           [[ 0.5577, -0.1706],\n",
      "            [ 0.1924,  0.1597]]],\n",
      "\n",
      "\n",
      "          [[[-0.5433, -0.3055],\n",
      "            [-0.5467,  0.1248]],\n",
      "\n",
      "           [[-0.3055,  0.1924],\n",
      "            [ 0.1248, -1.3927]],\n",
      "\n",
      "           [[ 0.1924,  0.1597],\n",
      "            [-1.3927,  2.1104]]]]]])\n",
      "torch.Size([2, 1, 3, 3, 2, 2])\n"
     ]
    }
   ],
   "source": [
    "import torch\n",
    "kernel_size = [2,2]\n",
    "stride = [1,1]\n",
    "x = torch.randn(2,1,4,4)\n",
    "print(x)\n",
    "x = x.unfold(2, kernel_size[0], stride[0])\n",
    "x = x.unfold(3, kernel_size[1], stride[1])\n",
    "print(x)\n",
    "print(x.shape)\n",
    "x = x.transpose_(1, 2).transpose_(2, 3).contiguous()\n",
    "# print(x)\n",
    "# print(x.shape)\n",
    "\n",
    "x = x.view(\n",
    "        x.size(0), x.size(1), x.size(2),\n",
    "        x.size(3) * x.size(4) * x.size(5))\n",
    "# print(x)\n",
    "# print(x.shape)\n",
    "a=x\n",
    "spatial_size = a.size(1) * a.size(2)\n",
    "# print(spatial_size)\n",
    "a = a.view(-1, a.size(-1))\n",
    "# print(a)\n",
    "# print(a.shape)"
   ]
  }
 ],
 "metadata": {
  "kernelspec": {
   "display_name": "Python 3",
   "language": "python",
   "name": "python3"
  },
  "language_info": {
   "codemirror_mode": {
    "name": "ipython",
    "version": 3
   },
   "file_extension": ".py",
   "mimetype": "text/x-python",
   "name": "python",
   "nbconvert_exporter": "python",
   "pygments_lexer": "ipython3",
   "version": "3.10.4"
  }
 },
 "nbformat": 4,
 "nbformat_minor": 2
}
